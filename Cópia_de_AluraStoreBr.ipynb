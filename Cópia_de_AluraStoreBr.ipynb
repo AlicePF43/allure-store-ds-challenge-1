{
  "nbformat": 4,
  "nbformat_minor": 0,
  "metadata": {
    "colab": {
      "provenance": [],
      "include_colab_link": true
    },
    "kernelspec": {
      "name": "python3",
      "display_name": "Python 3"
    },
    "language_info": {
      "name": "python"
    }
  },
  "cells": [
    {
      "cell_type": "markdown",
      "metadata": {
        "id": "view-in-github",
        "colab_type": "text"
      },
      "source": [
        "<a href=\"https://colab.research.google.com/github/AlicePF43/allure-store-ds-challenge-1/blob/main/C%C3%B3pia_de_AluraStoreBr.ipynb\" target=\"_parent\"><img src=\"https://colab.research.google.com/assets/colab-badge.svg\" alt=\"Open In Colab\"/></a>"
      ]
    },
    {
      "cell_type": "markdown",
      "source": [
        "### Importação dos dados\n",
        "\n"
      ],
      "metadata": {
        "id": "RhEdWd9YUR6H"
      }
    },
    {
      "cell_type": "code",
      "execution_count": 1,
      "metadata": {
        "colab": {
          "base_uri": "https://localhost:8080/",
          "height": 258
        },
        "id": "T3EvaeQ_INIL",
        "outputId": "03801f76-4a6b-4c0f-d1c4-a0794809d609"
      },
      "outputs": [
        {
          "output_type": "execute_result",
          "data": {
            "text/plain": [
              "                 Produto Categoria do Produto    Preço      Frete  \\\n",
              "0     Assistente virtual          eletronicos   219.08   9.249790   \n",
              "1         Mesa de jantar               moveis   256.35  11.234305   \n",
              "2      Jogo de tabuleiro           brinquedos   279.51  21.262681   \n",
              "3            Micro-ondas     eletrodomesticos  1009.99  54.667344   \n",
              "4  Cadeira de escritório               moveis   446.99  26.964689   \n",
              "\n",
              "  Data da Compra        Vendedor Local da compra  Avaliação da compra  \\\n",
              "0     16/01/2021     Pedro Gomes              SP                    4   \n",
              "1     18/05/2022  Beatriz Moraes              RJ                    1   \n",
              "2     15/03/2021      João Souza              DF                    1   \n",
              "3     03/05/2022      João Souza              RS                    4   \n",
              "4     07/11/2020   Larissa Alves              MG                    5   \n",
              "\n",
              "  Tipo de pagamento  Quantidade de parcelas    lat    lon  \n",
              "0    cartao_credito                       8 -22.19 -48.79  \n",
              "1    cartao_credito                       4 -22.25 -42.66  \n",
              "2    cartao_credito                       1 -15.83 -47.86  \n",
              "3            boleto                       1 -30.17 -53.50  \n",
              "4            boleto                       1 -18.10 -44.38  "
            ],
            "text/html": [
              "\n",
              "  <div id=\"df-25fcccfc-c161-4137-a0dd-ac80f8928184\" class=\"colab-df-container\">\n",
              "    <div>\n",
              "<style scoped>\n",
              "    .dataframe tbody tr th:only-of-type {\n",
              "        vertical-align: middle;\n",
              "    }\n",
              "\n",
              "    .dataframe tbody tr th {\n",
              "        vertical-align: top;\n",
              "    }\n",
              "\n",
              "    .dataframe thead th {\n",
              "        text-align: right;\n",
              "    }\n",
              "</style>\n",
              "<table border=\"1\" class=\"dataframe\">\n",
              "  <thead>\n",
              "    <tr style=\"text-align: right;\">\n",
              "      <th></th>\n",
              "      <th>Produto</th>\n",
              "      <th>Categoria do Produto</th>\n",
              "      <th>Preço</th>\n",
              "      <th>Frete</th>\n",
              "      <th>Data da Compra</th>\n",
              "      <th>Vendedor</th>\n",
              "      <th>Local da compra</th>\n",
              "      <th>Avaliação da compra</th>\n",
              "      <th>Tipo de pagamento</th>\n",
              "      <th>Quantidade de parcelas</th>\n",
              "      <th>lat</th>\n",
              "      <th>lon</th>\n",
              "    </tr>\n",
              "  </thead>\n",
              "  <tbody>\n",
              "    <tr>\n",
              "      <th>0</th>\n",
              "      <td>Assistente virtual</td>\n",
              "      <td>eletronicos</td>\n",
              "      <td>219.08</td>\n",
              "      <td>9.249790</td>\n",
              "      <td>16/01/2021</td>\n",
              "      <td>Pedro Gomes</td>\n",
              "      <td>SP</td>\n",
              "      <td>4</td>\n",
              "      <td>cartao_credito</td>\n",
              "      <td>8</td>\n",
              "      <td>-22.19</td>\n",
              "      <td>-48.79</td>\n",
              "    </tr>\n",
              "    <tr>\n",
              "      <th>1</th>\n",
              "      <td>Mesa de jantar</td>\n",
              "      <td>moveis</td>\n",
              "      <td>256.35</td>\n",
              "      <td>11.234305</td>\n",
              "      <td>18/05/2022</td>\n",
              "      <td>Beatriz Moraes</td>\n",
              "      <td>RJ</td>\n",
              "      <td>1</td>\n",
              "      <td>cartao_credito</td>\n",
              "      <td>4</td>\n",
              "      <td>-22.25</td>\n",
              "      <td>-42.66</td>\n",
              "    </tr>\n",
              "    <tr>\n",
              "      <th>2</th>\n",
              "      <td>Jogo de tabuleiro</td>\n",
              "      <td>brinquedos</td>\n",
              "      <td>279.51</td>\n",
              "      <td>21.262681</td>\n",
              "      <td>15/03/2021</td>\n",
              "      <td>João Souza</td>\n",
              "      <td>DF</td>\n",
              "      <td>1</td>\n",
              "      <td>cartao_credito</td>\n",
              "      <td>1</td>\n",
              "      <td>-15.83</td>\n",
              "      <td>-47.86</td>\n",
              "    </tr>\n",
              "    <tr>\n",
              "      <th>3</th>\n",
              "      <td>Micro-ondas</td>\n",
              "      <td>eletrodomesticos</td>\n",
              "      <td>1009.99</td>\n",
              "      <td>54.667344</td>\n",
              "      <td>03/05/2022</td>\n",
              "      <td>João Souza</td>\n",
              "      <td>RS</td>\n",
              "      <td>4</td>\n",
              "      <td>boleto</td>\n",
              "      <td>1</td>\n",
              "      <td>-30.17</td>\n",
              "      <td>-53.50</td>\n",
              "    </tr>\n",
              "    <tr>\n",
              "      <th>4</th>\n",
              "      <td>Cadeira de escritório</td>\n",
              "      <td>moveis</td>\n",
              "      <td>446.99</td>\n",
              "      <td>26.964689</td>\n",
              "      <td>07/11/2020</td>\n",
              "      <td>Larissa Alves</td>\n",
              "      <td>MG</td>\n",
              "      <td>5</td>\n",
              "      <td>boleto</td>\n",
              "      <td>1</td>\n",
              "      <td>-18.10</td>\n",
              "      <td>-44.38</td>\n",
              "    </tr>\n",
              "  </tbody>\n",
              "</table>\n",
              "</div>\n",
              "    <div class=\"colab-df-buttons\">\n",
              "\n",
              "  <div class=\"colab-df-container\">\n",
              "    <button class=\"colab-df-convert\" onclick=\"convertToInteractive('df-25fcccfc-c161-4137-a0dd-ac80f8928184')\"\n",
              "            title=\"Convert this dataframe to an interactive table.\"\n",
              "            style=\"display:none;\">\n",
              "\n",
              "  <svg xmlns=\"http://www.w3.org/2000/svg\" height=\"24px\" viewBox=\"0 -960 960 960\">\n",
              "    <path d=\"M120-120v-720h720v720H120Zm60-500h600v-160H180v160Zm220 220h160v-160H400v160Zm0 220h160v-160H400v160ZM180-400h160v-160H180v160Zm440 0h160v-160H620v160ZM180-180h160v-160H180v160Zm440 0h160v-160H620v160Z\"/>\n",
              "  </svg>\n",
              "    </button>\n",
              "\n",
              "  <style>\n",
              "    .colab-df-container {\n",
              "      display:flex;\n",
              "      gap: 12px;\n",
              "    }\n",
              "\n",
              "    .colab-df-convert {\n",
              "      background-color: #E8F0FE;\n",
              "      border: none;\n",
              "      border-radius: 50%;\n",
              "      cursor: pointer;\n",
              "      display: none;\n",
              "      fill: #1967D2;\n",
              "      height: 32px;\n",
              "      padding: 0 0 0 0;\n",
              "      width: 32px;\n",
              "    }\n",
              "\n",
              "    .colab-df-convert:hover {\n",
              "      background-color: #E2EBFA;\n",
              "      box-shadow: 0px 1px 2px rgba(60, 64, 67, 0.3), 0px 1px 3px 1px rgba(60, 64, 67, 0.15);\n",
              "      fill: #174EA6;\n",
              "    }\n",
              "\n",
              "    .colab-df-buttons div {\n",
              "      margin-bottom: 4px;\n",
              "    }\n",
              "\n",
              "    [theme=dark] .colab-df-convert {\n",
              "      background-color: #3B4455;\n",
              "      fill: #D2E3FC;\n",
              "    }\n",
              "\n",
              "    [theme=dark] .colab-df-convert:hover {\n",
              "      background-color: #434B5C;\n",
              "      box-shadow: 0px 1px 3px 1px rgba(0, 0, 0, 0.15);\n",
              "      filter: drop-shadow(0px 1px 2px rgba(0, 0, 0, 0.3));\n",
              "      fill: #FFFFFF;\n",
              "    }\n",
              "  </style>\n",
              "\n",
              "    <script>\n",
              "      const buttonEl =\n",
              "        document.querySelector('#df-25fcccfc-c161-4137-a0dd-ac80f8928184 button.colab-df-convert');\n",
              "      buttonEl.style.display =\n",
              "        google.colab.kernel.accessAllowed ? 'block' : 'none';\n",
              "\n",
              "      async function convertToInteractive(key) {\n",
              "        const element = document.querySelector('#df-25fcccfc-c161-4137-a0dd-ac80f8928184');\n",
              "        const dataTable =\n",
              "          await google.colab.kernel.invokeFunction('convertToInteractive',\n",
              "                                                    [key], {});\n",
              "        if (!dataTable) return;\n",
              "\n",
              "        const docLinkHtml = 'Like what you see? Visit the ' +\n",
              "          '<a target=\"_blank\" href=https://colab.research.google.com/notebooks/data_table.ipynb>data table notebook</a>'\n",
              "          + ' to learn more about interactive tables.';\n",
              "        element.innerHTML = '';\n",
              "        dataTable['output_type'] = 'display_data';\n",
              "        await google.colab.output.renderOutput(dataTable, element);\n",
              "        const docLink = document.createElement('div');\n",
              "        docLink.innerHTML = docLinkHtml;\n",
              "        element.appendChild(docLink);\n",
              "      }\n",
              "    </script>\n",
              "  </div>\n",
              "\n",
              "\n",
              "<div id=\"df-88fcbdd5-ee0a-44db-b4b6-716bb76fee4d\">\n",
              "  <button class=\"colab-df-quickchart\" onclick=\"quickchart('df-88fcbdd5-ee0a-44db-b4b6-716bb76fee4d')\"\n",
              "            title=\"Suggest charts\"\n",
              "            style=\"display:none;\">\n",
              "\n",
              "<svg xmlns=\"http://www.w3.org/2000/svg\" height=\"24px\"viewBox=\"0 0 24 24\"\n",
              "     width=\"24px\">\n",
              "    <g>\n",
              "        <path d=\"M19 3H5c-1.1 0-2 .9-2 2v14c0 1.1.9 2 2 2h14c1.1 0 2-.9 2-2V5c0-1.1-.9-2-2-2zM9 17H7v-7h2v7zm4 0h-2V7h2v10zm4 0h-2v-4h2v4z\"/>\n",
              "    </g>\n",
              "</svg>\n",
              "  </button>\n",
              "\n",
              "<style>\n",
              "  .colab-df-quickchart {\n",
              "      --bg-color: #E8F0FE;\n",
              "      --fill-color: #1967D2;\n",
              "      --hover-bg-color: #E2EBFA;\n",
              "      --hover-fill-color: #174EA6;\n",
              "      --disabled-fill-color: #AAA;\n",
              "      --disabled-bg-color: #DDD;\n",
              "  }\n",
              "\n",
              "  [theme=dark] .colab-df-quickchart {\n",
              "      --bg-color: #3B4455;\n",
              "      --fill-color: #D2E3FC;\n",
              "      --hover-bg-color: #434B5C;\n",
              "      --hover-fill-color: #FFFFFF;\n",
              "      --disabled-bg-color: #3B4455;\n",
              "      --disabled-fill-color: #666;\n",
              "  }\n",
              "\n",
              "  .colab-df-quickchart {\n",
              "    background-color: var(--bg-color);\n",
              "    border: none;\n",
              "    border-radius: 50%;\n",
              "    cursor: pointer;\n",
              "    display: none;\n",
              "    fill: var(--fill-color);\n",
              "    height: 32px;\n",
              "    padding: 0;\n",
              "    width: 32px;\n",
              "  }\n",
              "\n",
              "  .colab-df-quickchart:hover {\n",
              "    background-color: var(--hover-bg-color);\n",
              "    box-shadow: 0 1px 2px rgba(60, 64, 67, 0.3), 0 1px 3px 1px rgba(60, 64, 67, 0.15);\n",
              "    fill: var(--button-hover-fill-color);\n",
              "  }\n",
              "\n",
              "  .colab-df-quickchart-complete:disabled,\n",
              "  .colab-df-quickchart-complete:disabled:hover {\n",
              "    background-color: var(--disabled-bg-color);\n",
              "    fill: var(--disabled-fill-color);\n",
              "    box-shadow: none;\n",
              "  }\n",
              "\n",
              "  .colab-df-spinner {\n",
              "    border: 2px solid var(--fill-color);\n",
              "    border-color: transparent;\n",
              "    border-bottom-color: var(--fill-color);\n",
              "    animation:\n",
              "      spin 1s steps(1) infinite;\n",
              "  }\n",
              "\n",
              "  @keyframes spin {\n",
              "    0% {\n",
              "      border-color: transparent;\n",
              "      border-bottom-color: var(--fill-color);\n",
              "      border-left-color: var(--fill-color);\n",
              "    }\n",
              "    20% {\n",
              "      border-color: transparent;\n",
              "      border-left-color: var(--fill-color);\n",
              "      border-top-color: var(--fill-color);\n",
              "    }\n",
              "    30% {\n",
              "      border-color: transparent;\n",
              "      border-left-color: var(--fill-color);\n",
              "      border-top-color: var(--fill-color);\n",
              "      border-right-color: var(--fill-color);\n",
              "    }\n",
              "    40% {\n",
              "      border-color: transparent;\n",
              "      border-right-color: var(--fill-color);\n",
              "      border-top-color: var(--fill-color);\n",
              "    }\n",
              "    60% {\n",
              "      border-color: transparent;\n",
              "      border-right-color: var(--fill-color);\n",
              "    }\n",
              "    80% {\n",
              "      border-color: transparent;\n",
              "      border-right-color: var(--fill-color);\n",
              "      border-bottom-color: var(--fill-color);\n",
              "    }\n",
              "    90% {\n",
              "      border-color: transparent;\n",
              "      border-bottom-color: var(--fill-color);\n",
              "    }\n",
              "  }\n",
              "</style>\n",
              "\n",
              "  <script>\n",
              "    async function quickchart(key) {\n",
              "      const quickchartButtonEl =\n",
              "        document.querySelector('#' + key + ' button');\n",
              "      quickchartButtonEl.disabled = true;  // To prevent multiple clicks.\n",
              "      quickchartButtonEl.classList.add('colab-df-spinner');\n",
              "      try {\n",
              "        const charts = await google.colab.kernel.invokeFunction(\n",
              "            'suggestCharts', [key], {});\n",
              "      } catch (error) {\n",
              "        console.error('Error during call to suggestCharts:', error);\n",
              "      }\n",
              "      quickchartButtonEl.classList.remove('colab-df-spinner');\n",
              "      quickchartButtonEl.classList.add('colab-df-quickchart-complete');\n",
              "    }\n",
              "    (() => {\n",
              "      let quickchartButtonEl =\n",
              "        document.querySelector('#df-88fcbdd5-ee0a-44db-b4b6-716bb76fee4d button');\n",
              "      quickchartButtonEl.style.display =\n",
              "        google.colab.kernel.accessAllowed ? 'block' : 'none';\n",
              "    })();\n",
              "  </script>\n",
              "</div>\n",
              "\n",
              "    </div>\n",
              "  </div>\n"
            ],
            "application/vnd.google.colaboratory.intrinsic+json": {
              "type": "dataframe",
              "variable_name": "loja",
              "summary": "{\n  \"name\": \"loja\",\n  \"rows\": 2359,\n  \"fields\": [\n    {\n      \"column\": \"Produto\",\n      \"properties\": {\n        \"dtype\": \"category\",\n        \"num_unique_values\": 51,\n        \"samples\": [\n          \"Viol\\u00e3o\",\n          \"Bola de basquete\",\n          \"Smartwatch\"\n        ],\n        \"semantic_type\": \"\",\n        \"description\": \"\"\n      }\n    },\n    {\n      \"column\": \"Categoria do Produto\",\n      \"properties\": {\n        \"dtype\": \"category\",\n        \"num_unique_values\": 8,\n        \"samples\": [\n          \"moveis\",\n          \"esporte e lazer\",\n          \"eletronicos\"\n        ],\n        \"semantic_type\": \"\",\n        \"description\": \"\"\n      }\n    },\n    {\n      \"column\": \"Pre\\u00e7o\",\n      \"properties\": {\n        \"dtype\": \"number\",\n        \"std\": 819.5827782539145,\n        \"min\": 10.07,\n        \"max\": 3969.38,\n        \"num_unique_values\": 2315,\n        \"samples\": [\n          446.11,\n          107.31,\n          65.86\n        ],\n        \"semantic_type\": \"\",\n        \"description\": \"\"\n      }\n    },\n    {\n      \"column\": \"Frete\",\n      \"properties\": {\n        \"dtype\": \"number\",\n        \"std\": 43.814183327408166,\n        \"min\": 0.0,\n        \"max\": 214.3770604781,\n        \"num_unique_values\": 2149,\n        \"samples\": [\n          83.815279607,\n          16.069664669,\n          14.0344876928\n        ],\n        \"semantic_type\": \"\",\n        \"description\": \"\"\n      }\n    },\n    {\n      \"column\": \"Data da Compra\",\n      \"properties\": {\n        \"dtype\": \"object\",\n        \"num_unique_values\": 1018,\n        \"samples\": [\n          \"15/09/2022\",\n          \"03/06/2020\",\n          \"06/11/2021\"\n        ],\n        \"semantic_type\": \"\",\n        \"description\": \"\"\n      }\n    },\n    {\n      \"column\": \"Vendedor\",\n      \"properties\": {\n        \"dtype\": \"category\",\n        \"num_unique_values\": 14,\n        \"samples\": [\n          \"Juliana Costa\",\n          \"Mariana Ferreira\",\n          \"Pedro Gomes\"\n        ],\n        \"semantic_type\": \"\",\n        \"description\": \"\"\n      }\n    },\n    {\n      \"column\": \"Local da compra\",\n      \"properties\": {\n        \"dtype\": \"category\",\n        \"num_unique_values\": 26,\n        \"samples\": [\n          \"TO\",\n          \"RN\",\n          \"SP\"\n        ],\n        \"semantic_type\": \"\",\n        \"description\": \"\"\n      }\n    },\n    {\n      \"column\": \"Avalia\\u00e7\\u00e3o da compra\",\n      \"properties\": {\n        \"dtype\": \"number\",\n        \"std\": 1,\n        \"min\": 1,\n        \"max\": 5,\n        \"num_unique_values\": 5,\n        \"samples\": [\n          1,\n          2,\n          5\n        ],\n        \"semantic_type\": \"\",\n        \"description\": \"\"\n      }\n    },\n    {\n      \"column\": \"Tipo de pagamento\",\n      \"properties\": {\n        \"dtype\": \"category\",\n        \"num_unique_values\": 4,\n        \"samples\": [\n          \"boleto\",\n          \"cartao_debito\",\n          \"cartao_credito\"\n        ],\n        \"semantic_type\": \"\",\n        \"description\": \"\"\n      }\n    },\n    {\n      \"column\": \"Quantidade de parcelas\",\n      \"properties\": {\n        \"dtype\": \"number\",\n        \"std\": 2,\n        \"min\": 1,\n        \"max\": 24,\n        \"num_unique_values\": 15,\n        \"samples\": [\n          7,\n          14,\n          8\n        ],\n        \"semantic_type\": \"\",\n        \"description\": \"\"\n      }\n    },\n    {\n      \"column\": \"lat\",\n      \"properties\": {\n        \"dtype\": \"number\",\n        \"std\": 5.372399916530833,\n        \"min\": -30.17,\n        \"max\": 1.41,\n        \"num_unique_values\": 26,\n        \"samples\": [\n          -9.46,\n          -5.81,\n          -22.19\n        ],\n        \"semantic_type\": \"\",\n        \"description\": \"\"\n      }\n    },\n    {\n      \"column\": \"lon\",\n      \"properties\": {\n        \"dtype\": \"number\",\n        \"std\": 4.183180020544179,\n        \"min\": -70.55,\n        \"max\": -36.59,\n        \"num_unique_values\": 26,\n        \"samples\": [\n          -48.26,\n          -36.59,\n          -48.79\n        ],\n        \"semantic_type\": \"\",\n        \"description\": \"\"\n      }\n    }\n  ]\n}"
            }
          },
          "metadata": {},
          "execution_count": 1
        }
      ],
      "source": [
        "import pandas as pd\n",
        "\n",
        "url = \"https://raw.githubusercontent.com/alura-es-cursos/challenge1-data-science/refs/heads/main/base-de-dados-challenge-1/loja_1.csv\"\n",
        "url2 = \"https://raw.githubusercontent.com/alura-es-cursos/challenge1-data-science/refs/heads/main/base-de-dados-challenge-1/loja_2.csv\"\n",
        "url3 = \"https://raw.githubusercontent.com/alura-es-cursos/challenge1-data-science/refs/heads/main/base-de-dados-challenge-1/loja_3.csv\"\n",
        "url4 = \"https://raw.githubusercontent.com/alura-es-cursos/challenge1-data-science/refs/heads/main/base-de-dados-challenge-1/loja_4.csv\"\n",
        "\n",
        "loja = pd.read_csv(url)\n",
        "loja2 = pd.read_csv(url2)\n",
        "loja3 = pd.read_csv(url3)\n",
        "loja4 = pd.read_csv(url4)\n",
        "\n",
        "loja.head()"
      ]
    },
    {
      "cell_type": "code",
      "source": [
        "\n"
      ],
      "metadata": {
        "id": "i6HaFLZQDnuq"
      },
      "execution_count": 1,
      "outputs": []
    },
    {
      "cell_type": "markdown",
      "source": [
        "#1. Análise do faturamento\n"
      ],
      "metadata": {
        "id": "X62IW3KFUIYm"
      }
    },
    {
      "cell_type": "code",
      "source": [
        "faturamento_loja1 = loja[\"Preço\"].sum()\n",
        "faturamento_loja2 = loja2[\"Preço\"].sum()\n",
        "faturamento_loja3 = loja3[\"Preço\"].sum()\n",
        "faturamento_loja4 = loja4[\"Preço\"].sum()\n",
        "\n"
      ],
      "metadata": {
        "id": "xykobSftV64I"
      },
      "execution_count": 2,
      "outputs": []
    },
    {
      "cell_type": "code",
      "source": [
        "print(f\"Faturamento Loja 1: R$ {faturamento_loja1:.2f}\")\n",
        "print(f\"Faturamento Loja 2: R$ {faturamento_loja2:.2f}\")\n",
        "print(f\"Faturamento Loja 3: R$ {faturamento_loja3:.2f}\")\n",
        "print(f\"Faturamento Loja 4: R$ {faturamento_loja4:.2f}\")"
      ],
      "metadata": {
        "id": "KDyr8E71V3m-",
        "colab": {
          "base_uri": "https://localhost:8080/"
        },
        "outputId": "199a16da-5d66-43b8-c5fe-9e29ff397ea0"
      },
      "execution_count": 3,
      "outputs": [
        {
          "output_type": "stream",
          "name": "stdout",
          "text": [
            "Faturamento Loja 1: R$ 1534509.12\n",
            "Faturamento Loja 2: R$ 1488459.06\n",
            "Faturamento Loja 3: R$ 1464025.03\n",
            "Faturamento Loja 4: R$ 1384497.58\n"
          ]
        }
      ]
    },
    {
      "cell_type": "markdown",
      "source": [
        "\n",
        "\n",
        "```\n",
        "# Isto está formatado como código\n",
        "```\n",
        "\n",
        "# 2. Vendas por Categoria\n"
      ],
      "metadata": {
        "id": "2V_vcAPzWZmR"
      }
    },
    {
      "cell_type": "code",
      "source": [
        "print(\"Quantidade de vendas por categoria - Loja 1:\\n\", loja[\"Categoria do Produto\"].value_counts())\n",
        "print(\"\\nQuantidade de vendas por categoria - Loja 2:\\n\", loja2[\"Categoria do Produto\"].value_counts())\n",
        "print(\"\\nQuantidade de vendas por categoria - Loja 3:\\n\", loja3[\"Categoria do Produto\"].value_counts())\n",
        "print(\"\\nQuantidade de vendas por categoria - Loja 4:\\n\", loja4[\"Categoria do Produto\"].value_counts())"
      ],
      "metadata": {
        "id": "A34YupIuYhfF",
        "colab": {
          "base_uri": "https://localhost:8080/"
        },
        "outputId": "c387df94-67e7-4fa9-aab7-5ee3c5eb7751"
      },
      "execution_count": 4,
      "outputs": [
        {
          "output_type": "stream",
          "name": "stdout",
          "text": [
            "Quantidade de vendas por categoria - Loja 1:\n",
            " Categoria do Produto\n",
            "moveis                   465\n",
            "eletronicos              448\n",
            "brinquedos               324\n",
            "eletrodomesticos         312\n",
            "esporte e lazer          284\n",
            "instrumentos musicais    182\n",
            "livros                   173\n",
            "utilidades domesticas    171\n",
            "Name: count, dtype: int64\n",
            "\n",
            "Quantidade de vendas por categoria - Loja 2:\n",
            " Categoria do Produto\n",
            "moveis                   442\n",
            "eletronicos              422\n",
            "brinquedos               313\n",
            "eletrodomesticos         305\n",
            "esporte e lazer          275\n",
            "instrumentos musicais    224\n",
            "livros                   197\n",
            "utilidades domesticas    181\n",
            "Name: count, dtype: int64\n",
            "\n",
            "Quantidade de vendas por categoria - Loja 3:\n",
            " Categoria do Produto\n",
            "moveis                   499\n",
            "eletronicos              451\n",
            "brinquedos               315\n",
            "eletrodomesticos         278\n",
            "esporte e lazer          277\n",
            "livros                   185\n",
            "instrumentos musicais    177\n",
            "utilidades domesticas    177\n",
            "Name: count, dtype: int64\n",
            "\n",
            "Quantidade de vendas por categoria - Loja 4:\n",
            " Categoria do Produto\n",
            "moveis                   480\n",
            "eletronicos              451\n",
            "brinquedos               338\n",
            "esporte e lazer          277\n",
            "eletrodomesticos         254\n",
            "utilidades domesticas    201\n",
            "livros                   187\n",
            "instrumentos musicais    170\n",
            "Name: count, dtype: int64\n"
          ]
        }
      ]
    },
    {
      "cell_type": "code",
      "source": [
        "# Criando dicionários para armazenar os faturamentos das quatro lojas\n",
        "faturamento_loja1 = {}\n",
        "faturamento_loja2 = {}\n",
        "faturamento_loja3 = {}\n",
        "faturamento_loja4 = {}\n",
        "\n",
        "# Função para calcular faturamento por categoria\n",
        "def calcular_faturamento(loja, faturamento_dict):\n",
        "    for index, row in loja.iterrows():\n",
        "        categoria = row[\"Categoria do Produto\"]\n",
        "        preco = row[\"Preço\"]\n",
        "\n",
        "        if categoria in faturamento_dict:\n",
        "            faturamento_dict[categoria] += preco\n",
        "        else:\n",
        "            faturamento_dict[categoria] = preco\n",
        "\n",
        "# Aplicando a função para cada loja\n",
        "calcular_faturamento(loja, faturamento_loja1)\n",
        "calcular_faturamento(loja2, faturamento_loja2)\n",
        "calcular_faturamento(loja3, faturamento_loja3)\n",
        "calcular_faturamento(loja4, faturamento_loja4)\n",
        "\n"
      ],
      "metadata": {
        "id": "yZR6cOjXYSk1",
        "collapsed": true
      },
      "execution_count": 5,
      "outputs": []
    },
    {
      "cell_type": "code",
      "source": [
        "# Exibindo os faturamentos por categoria para cada loja\n",
        "print(\"Faturamento por Categoria - Loja 1:\")\n",
        "for categoria, total in faturamento_loja1.items():\n",
        "    print(f\"{categoria}: R$ {total:.2f}\")\n",
        "\n",
        "print(\"\\nFaturamento por Categoria - Loja 2:\")\n",
        "for categoria, total in faturamento_loja2.items():\n",
        "    print(f\"{categoria}: R$ {total:.2f}\")\n",
        "\n",
        "print(\"\\nFaturamento por Categoria - Loja 3:\")\n",
        "for categoria, total in faturamento_loja3.items():\n",
        "    print(f\"{categoria}: R$ {total:.2f}\")\n",
        "\n",
        "print(\"\\nFaturamento por Categoria - Loja 4:\")\n",
        "for categoria, total in faturamento_loja4.items():\n",
        "    print(f\"{categoria}: R$ {total:.2f}\")"
      ],
      "metadata": {
        "colab": {
          "base_uri": "https://localhost:8080/"
        },
        "id": "aYJKNeu7WaKg",
        "outputId": "5a668d9a-82c4-4ee9-9ad8-45b05c8f15d4"
      },
      "execution_count": 6,
      "outputs": [
        {
          "output_type": "stream",
          "name": "stdout",
          "text": [
            "Faturamento por Categoria - Loja 1:\n",
            "eletronicos: R$ 572659.23\n",
            "moveis: R$ 250178.11\n",
            "brinquedos: R$ 23993.78\n",
            "eletrodomesticos: R$ 484913.36\n",
            "utilidades domesticas: R$ 16931.48\n",
            "esporte e lazer: R$ 52387.55\n",
            "livros: R$ 11713.92\n",
            "instrumentos musicais: R$ 121731.69\n",
            "\n",
            "Faturamento por Categoria - Loja 2:\n",
            "moveis: R$ 235234.68\n",
            "instrumentos musicais: R$ 139987.03\n",
            "esporte e lazer: R$ 46326.09\n",
            "eletronicos: R$ 547773.71\n",
            "utilidades domesticas: R$ 19662.86\n",
            "brinquedos: R$ 21262.21\n",
            "eletrodomesticos: R$ 464758.13\n",
            "livros: R$ 13454.35\n",
            "\n",
            "Faturamento por Categoria - Loja 3:\n",
            "eletrodomesticos: R$ 438984.89\n",
            "moveis: R$ 268095.56\n",
            "instrumentos musicais: R$ 103174.45\n",
            "esporte e lazer: R$ 47456.10\n",
            "eletronicos: R$ 547699.92\n",
            "brinquedos: R$ 25869.20\n",
            "utilidades domesticas: R$ 20080.21\n",
            "livros: R$ 12664.70\n",
            "\n",
            "Faturamento por Categoria - Loja 4:\n",
            "eletrodomesticos: R$ 377680.65\n",
            "moveis: R$ 256705.65\n",
            "esporte e lazer: R$ 44465.65\n",
            "livros: R$ 12427.77\n",
            "eletronicos: R$ 545966.86\n",
            "instrumentos musicais: R$ 100136.50\n",
            "brinquedos: R$ 27015.67\n",
            "utilidades domesticas: R$ 20098.83\n"
          ]
        }
      ]
    },
    {
      "cell_type": "markdown",
      "source": [
        "# 3. Média de Avaliação das Lojas\n",
        "\n",
        "---\n",
        "\n",
        "\n",
        "\n",
        "*   Item da lista\n",
        "*   Item da lista\n",
        "\n"
      ],
      "metadata": {
        "id": "Rq6tU_xSY3jk"
      }
    },
    {
      "cell_type": "code",
      "source": [
        "# Calculando a média manualmente\n",
        "media_avaliacao_loja1 = sum(loja[\"Avaliação da compra\"]) / len(loja[\"Avaliação da compra\"])\n",
        "media_avaliacao_loja2 = sum(loja2[\"Avaliação da compra\"]) / len(loja2[\"Avaliação da compra\"])\n",
        "media_avaliacao_loja3 = sum(loja3[\"Avaliação da compra\"]) / len(loja3[\"Avaliação da compra\"])\n",
        "media_avaliacao_loja4 = sum(loja4[\"Avaliação da compra\"]) / len(loja4[\"Avaliação da compra\"])\n",
        "\n"
      ],
      "metadata": {
        "id": "bh3jjjJwY5MU"
      },
      "execution_count": 7,
      "outputs": []
    },
    {
      "cell_type": "code",
      "source": [
        "# Exibindo os resultados\n",
        "print(f\"Média de Avaliação - Loja 1: {media_avaliacao_loja1:.2f}\")\n",
        "print(f\"Média de Avaliação - Loja 2: {media_avaliacao_loja2:.2f}\")\n",
        "print(f\"Média de Avaliação - Loja 3: {media_avaliacao_loja3:.2f}\")\n",
        "print(f\"Média de Avaliação - Loja 4: {media_avaliacao_loja4:.2f}\")"
      ],
      "metadata": {
        "id": "I0KkjPoTY88F",
        "colab": {
          "base_uri": "https://localhost:8080/"
        },
        "outputId": "ca725a2f-987d-458c-ee55-a465b60317f0"
      },
      "execution_count": 8,
      "outputs": [
        {
          "output_type": "stream",
          "name": "stdout",
          "text": [
            "Média de Avaliação - Loja 1: 3.98\n",
            "Média de Avaliação - Loja 2: 4.04\n",
            "Média de Avaliação - Loja 3: 4.05\n",
            "Média de Avaliação - Loja 4: 4.00\n"
          ]
        }
      ]
    },
    {
      "cell_type": "markdown",
      "source": [
        "# 4. Produtos Mais e Menos Vendidos\n",
        "\n",
        "> Adicionar aspas\n",
        "\n"
      ],
      "metadata": {
        "id": "DmNp1KPBZCm-"
      }
    },
    {
      "cell_type": "code",
      "source": [
        "# Contar quantidade de vendas por produto em cada loja\n",
        "vendas_por_produto_loja1 = loja[\"Produto\"].value_counts()\n",
        "vendas_por_produto_loja2 = loja2[\"Produto\"].value_counts()\n",
        "vendas_por_produto_loja3 = loja3[\"Produto\"].value_counts()\n",
        "vendas_por_produto_loja4 = loja4[\"Produto\"].value_counts()\n"
      ],
      "metadata": {
        "id": "qoyjqijQZHfF"
      },
      "execution_count": 9,
      "outputs": []
    },
    {
      "cell_type": "code",
      "source": [
        "\n",
        "# Exibir os produtos mais vendidos\n",
        "print(\"Produtos mais vendidos - Loja 1:\\n\", vendas_por_produto_loja1.head(5))  # Top 5 mais vendidos\n",
        "print(\"\\nProdutos mais vendidos - Loja 2:\\n\", vendas_por_produto_loja2.head(5))\n",
        "print(\"\\nProdutos mais vendidos - Loja 3:\\n\", vendas_por_produto_loja3.head(5))\n",
        "print(\"\\nProdutos mais vendidos - Loja 4:\\n\", vendas_por_produto_loja4.head(5))\n",
        "\n"
      ],
      "metadata": {
        "id": "0Sw3sd4IZIGW",
        "colab": {
          "base_uri": "https://localhost:8080/"
        },
        "outputId": "5ee5525f-57a8-4969-f3bf-c7e87d718e57"
      },
      "execution_count": 10,
      "outputs": [
        {
          "output_type": "stream",
          "name": "stdout",
          "text": [
            "Produtos mais vendidos - Loja 1:\n",
            " Produto\n",
            "Micro-ondas           60\n",
            "TV Led UHD 4K         60\n",
            "Guarda roupas         60\n",
            "Secadora de roupas    58\n",
            "Cômoda                56\n",
            "Name: count, dtype: int64\n",
            "\n",
            "Produtos mais vendidos - Loja 2:\n",
            " Produto\n",
            "Iniciando em programação    65\n",
            "Micro-ondas                 62\n",
            "Bateria                     61\n",
            "Violão                      58\n",
            "Pandeiro                    58\n",
            "Name: count, dtype: int64\n",
            "\n",
            "Produtos mais vendidos - Loja 3:\n",
            " Produto\n",
            "Kit banquetas      57\n",
            "Mesa de jantar     56\n",
            "Cama king          56\n",
            "Jogo de panelas    55\n",
            "Cômoda             55\n",
            "Name: count, dtype: int64\n",
            "\n",
            "Produtos mais vendidos - Loja 4:\n",
            " Produto\n",
            "Cama box                    62\n",
            "Faqueiro                    59\n",
            "Dashboards com Power BI     56\n",
            "Cama king                   56\n",
            "Carrinho controle remoto    55\n",
            "Name: count, dtype: int64\n"
          ]
        }
      ]
    },
    {
      "cell_type": "code",
      "source": [
        "# Exibir os produtos menos vendidos\n",
        "print(\"\\nProdutos menos vendidos - Loja 1:\\n\", vendas_por_produto_loja1.tail(5))  # Top 5 menos vendidos\n",
        "print(\"\\nProdutos menos vendidos - Loja 2:\\n\", vendas_por_produto_loja2.tail(5))\n",
        "print(\"\\nProdutos menos vendidos - Loja 3:\\n\", vendas_por_produto_loja3.tail(5))\n",
        "print(\"\\nProdutos menos vendidos - Loja 4:\\n\", vendas_por_produto_loja4.tail(5))"
      ],
      "metadata": {
        "colab": {
          "base_uri": "https://localhost:8080/"
        },
        "id": "Fkp6Xv3iX6AY",
        "outputId": "55dee9b1-906b-49ab-c497-ef9f521a2f3b"
      },
      "execution_count": 11,
      "outputs": [
        {
          "output_type": "stream",
          "name": "stdout",
          "text": [
            "\n",
            "Produtos menos vendidos - Loja 1:\n",
            " Produto\n",
            "Ciência de dados com python    39\n",
            "Pandeiro                       36\n",
            "Panela de pressão              35\n",
            "Headset                        33\n",
            "Celular ABXY                   33\n",
            "Name: count, dtype: int64\n",
            "\n",
            "Produtos menos vendidos - Loja 2:\n",
            " Produto\n",
            "Fone de ouvido       37\n",
            "Poltrona             35\n",
            "Mesa de jantar       34\n",
            "Impressora           34\n",
            "Jogo de tabuleiro    32\n",
            "Name: count, dtype: int64\n",
            "\n",
            "Produtos menos vendidos - Loja 3:\n",
            " Produto\n",
            "Guitarra            38\n",
            "Jogo de copos       36\n",
            "Mochila             36\n",
            "Micro-ondas         36\n",
            "Blocos de montar    35\n",
            "Name: count, dtype: int64\n",
            "\n",
            "Produtos menos vendidos - Loja 4:\n",
            " Produto\n",
            "Geladeira                      38\n",
            "Ciência de dados com python    38\n",
            "Violão                         37\n",
            "Guarda roupas                  34\n",
            "Guitarra                       33\n",
            "Name: count, dtype: int64\n"
          ]
        }
      ]
    },
    {
      "cell_type": "markdown",
      "source": [
        "# 5. Frete Médio por Loja\n",
        "\n",
        "\n",
        "1.   Item da lista\n",
        "2.   Item da lista\n",
        "\n"
      ],
      "metadata": {
        "id": "Fl0cGi3bZKqU"
      }
    },
    {
      "cell_type": "code",
      "source": [
        "# Calculando o frete médio manualmente\n",
        "frete_medio_loja1 = sum(loja[\"Frete\"]) / len(loja[\"Frete\"])\n",
        "frete_medio_loja2 = sum(loja2[\"Frete\"]) / len(loja2[\"Frete\"])\n",
        "frete_medio_loja3 = sum(loja3[\"Frete\"]) / len(loja3[\"Frete\"])\n",
        "frete_medio_loja4 = sum(loja4[\"Frete\"]) / len(loja4[\"Frete\"])\n",
        "\n"
      ],
      "metadata": {
        "id": "S2JeaCykZNy9"
      },
      "execution_count": 12,
      "outputs": []
    },
    {
      "cell_type": "code",
      "source": [
        "# Exibindo os resultados\n",
        "print(f\"Frete Médio - Loja 1: R$ {frete_medio_loja1:.2f}\")\n",
        "print(f\"Frete Médio - Loja 2: R$ {frete_medio_loja2:.2f}\")\n",
        "print(f\"Frete Médio - Loja 3: R$ {frete_medio_loja3:.2f}\")\n",
        "print(f\"Frete Médio - Loja 4: R$ {frete_medio_loja4:.2f}\")"
      ],
      "metadata": {
        "id": "0tSdCie9ZQlt",
        "colab": {
          "base_uri": "https://localhost:8080/"
        },
        "outputId": "b8a82a8e-20d1-4550-806f-35bdd1f72c84"
      },
      "execution_count": 13,
      "outputs": [
        {
          "output_type": "stream",
          "name": "stdout",
          "text": [
            "Frete Médio - Loja 1: R$ 34.69\n",
            "Frete Médio - Loja 2: R$ 33.62\n",
            "Frete Médio - Loja 3: R$ 33.07\n",
            "Frete Médio - Loja 4: R$ 31.28\n"
          ]
        }
      ]
    },
    {
      "cell_type": "markdown",
      "source": [
        "#Gráficos de Barras - Comparação do Faturamento."
      ],
      "metadata": {
        "id": "8ZnwMuWFWXFy"
      }
    },
    {
      "cell_type": "code",
      "source": [
        "import matplotlib.pyplot as plt\n"
      ],
      "metadata": {
        "id": "Mjjr0GKwTfpI"
      },
      "execution_count": 14,
      "outputs": []
    },
    {
      "cell_type": "code",
      "source": [
        "\n",
        "\n",
        "# Somando o faturamento total de cada loja\n",
        "faturamento_loja1 = loja[\"Preço\"].sum()\n",
        "faturamento_loja2 = loja2[\"Preço\"].sum()\n",
        "faturamento_loja3 = loja3[\"Preço\"].sum()\n",
        "faturamento_loja4 = loja4[\"Preço\"].sum()\n",
        "\n",
        "# Criando um gráfico de barras\n",
        "lojas = [\"Loja 1\", \"Loja 2\", \"Loja 3\", \"Loja 4\"]\n",
        "faturamentos = [faturamento_loja1, faturamento_loja2, faturamento_loja3, faturamento_loja4]\n",
        "\n",
        "plt.figure(figsize=(8,5))\n",
        "plt.bar(lojas, faturamentos, color=\"blue\")\n",
        "plt.xlabel(\"Lojas\")\n",
        "plt.ylabel(\"Faturamento Total\")\n",
        "plt.title(\"Faturamento Total por Loja\")\n",
        "plt.show()"
      ],
      "metadata": {
        "colab": {
          "base_uri": "https://localhost:8080/",
          "height": 487
        },
        "id": "vACd1NIDRmCn",
        "outputId": "3f7a6c7e-2d32-4fd8-90b1-e21aa6f98447"
      },
      "execution_count": 15,
      "outputs": [
        {
          "output_type": "display_data",
          "data": {
            "text/plain": [
              "<Figure size 800x500 with 1 Axes>"
            ],
            "image/png": "[encoded data removed]"
          },
          "metadata": {}
        }
      ]
    },
    {
      "cell_type": "markdown",
      "source": [
        "#Gráfico de Pizza. Distribuição do Faturamento entre Loja."
      ],
      "metadata": {
        "id": "oa3yCmjcVWN1"
      }
    },
    {
      "cell_type": "code",
      "source": [
        "# Gráfico de pizza\n",
        "plt.figure(figsize=(6,6))\n",
        "plt.pie(faturamentos, labels=lojas, autopct='%1.1f%%', colors=[\"blue\", \"green\", \"red\", \"purple\"])\n",
        "plt.title(\"Distribuição do Faturamento entre as Lojas\")\n",
        "plt.show()"
      ],
      "metadata": {
        "colab": {
          "base_uri": "https://localhost:8080/",
          "height": 521
        },
        "id": "QRzHzw03TmUc",
        "outputId": "f2a84702-74a6-4d98-f072-db460b578834"
      },
      "execution_count": 16,
      "outputs": [
        {
          "output_type": "display_data",
          "data": {
            "text/plain": [
              "<Figure size 600x600 with 1 Axes>"
            ],
            "image/png": "[encoded data removed]"
          },
          "metadata": {}
        }
      ]
    },
    {
      "cell_type": "markdown",
      "source": [],
      "metadata": {
        "id": "jF80QyBFU4K-"
      }
    },
    {
      "cell_type": "markdown",
      "source": [
        "#Gráfico de linha. Distribuição do Faturamento entre Loja\n"
      ],
      "metadata": {
        "id": "dtliIJ9_VBNq"
      }
    },
    {
      "cell_type": "code",
      "source": [
        "import matplotlib.pyplot as plt\n"
      ],
      "metadata": {
        "id": "bAkgfIpwU9V_"
      },
      "execution_count": 17,
      "outputs": []
    },
    {
      "cell_type": "code",
      "source": [
        "\n",
        "# Dados\n",
        "lojas = [\"Loja 1\", \"Loja 2\", \"Loja 3\", \"Loja 4\"]\n",
        "faturamentos = [faturamento_loja1, faturamento_loja2, faturamento_loja3, faturamento_loja4]\n",
        "\n",
        "# Criando gráfico de linha simples\n",
        "plt.figure(figsize=(8,5))\n",
        "plt.plot(lojas, faturamentos, marker='o', linestyle='-', color=\"blue\", label=\"Faturamento\")\n",
        "plt.xlabel(\"Lojas\")\n",
        "plt.ylabel(\"Faturamento Total\")\n",
        "plt.title(\"Faturamento Total por Loja\")\n",
        "plt.legend()\n",
        "plt.show()"
      ],
      "metadata": {
        "colab": {
          "base_uri": "https://localhost:8080/",
          "height": 487
        },
        "id": "ytmpKNEATuEJ",
        "outputId": "241b873b-e200-4062-a925-0748af6ca08b"
      },
      "execution_count": 18,
      "outputs": [
        {
          "output_type": "display_data",
          "data": {
            "text/plain": [
              "<Figure size 800x500 with 1 Axes>"
            ],
            "image/png": "[encoded data removed]"
          },
          "metadata": {}
        }
      ]
    },
    {
      "cell_type": "markdown",
      "source": [
        "#Análise de Desempenho Geográfico\n",
        "\n"
      ],
      "metadata": {
        "id": "S14f-4X7Rvk2"
      }
    },
    {
      "cell_type": "markdown",
      "source": [],
      "metadata": {
        "id": "pbooZIiPw5KL"
      }
    },
    {
      "cell_type": "code",
      "source": [
        "\n",
        "# Criando o gráfico de dispersão\n",
        "plt.figure(figsize=(8,5))\n",
        "plt.scatter(loja[\"lon\"], loja[\"lat\"], c=loja[\"Preço\"], cmap=\"coolwarm\", alpha=0.7)\n",
        "\n",
        "# Adicionando as siglas dos estados como etiquetas\n",
        "for i in range(len(loja)):\n",
        "    plt.annotate(loja[\"Local da compra\"].iloc[i],\n",
        "                 (loja[\"lon\"].iloc[i], loja[\"lat\"].iloc[i]),\n",
        "                 textcoords=\"offset points\",\n",
        "                 xytext=(5,5),\n",
        "                 ha=\"right\",\n",
        "                 fontsize=9,\n",
        "                 color=\"black\")\n",
        "\n",
        "# Configurações do gráfico\n",
        "plt.colorbar(label=\"Faturamento (R$)\")\n",
        "plt.xlabel(\"Longitude\")\n",
        "plt.ylabel(\"Latitude\")\n",
        "plt.title(\"Distribuição das vendas por localização\")\n",
        "plt.grid(True)\n",
        "\n",
        "plt.show()"
      ],
      "metadata": {
        "colab": {
          "base_uri": "https://localhost:8080/",
          "height": 487
        },
        "id": "AVlpdjBdRWn_",
        "outputId": "db628d2c-41b2-4267-8bec-d8a4587bbb1c"
      },
      "execution_count": 20,
      "outputs": [
        {
          "output_type": "display_data",
          "data": {
            "text/plain": [
              "<Figure size 800x500 with 2 Axes>"
            ],
            "image/png": "[encoded data removed]"
          },
          "metadata": {}
        }
      ]
    },
    {
      "cell_type": "markdown",
      "source": [
        "#Relatório Final – Análise das Lojas e Recomendação de Venda\n",
        "\n"
      ],
      "metadata": {
        "id": "2Rxxp3Kj1I-K"
      }
    },
    {
      "cell_type": "markdown",
      "source": [
        "Este relatório apresenta uma análise detalhada das quatro lojas do Senhor João, considerando faturamento, categorias de produtos, avaliação dos clientes, frete e localização das compras. O objetivo é identificar qual loja deve ser vendida, garantindo uma decisão baseada em dados concretos.\n",
        "Resumo das Análises\n",
        "\n",
        "Faturamento: A Loja 1 tem o maior faturamento, enquanto a Loja 4 possui o menor desempenho financeiro.\n",
        "\n",
        " Vendas por Categoria: Móveis e eletrônicos lideram as vendas em todas as lojas, sendo essenciais para o faturamento.\n",
        "\n",
        " Avaliação dos Clientes: A Loja 3 tem a melhor avaliação, enquanto a Loja 1 apresenta uma nota inferior, possivelmente indicando desafios no atendimento ou qualidade dos produtos.\n",
        "\n",
        "  Frete Médio: A Loja 4 tem o menor custo de frete, o que pode estar impactando a margem de lucro.\n",
        "\n",
        "  Análise Geográfica: O mapa de dispersão revelou que algumas lojas possuem maior presença em determinadas regiões. A Loja 1 tem um alcance geográfico maior, enquanto a Loja 4 tem uma distribuição mais restrita, o que pode estar relacionado ao seu menor faturamento.\n"
      ],
      "metadata": {
        "id": "LYMt8mnAUVK0"
      }
    },
    {
      "cell_type": "markdown",
      "source": [
        "#Conclusão e Recomendação\n"
      ],
      "metadata": {
        "id": "T6wYv35yTtxO"
      }
    },
    {
      "cell_type": "markdown",
      "source": [
        "Com base nos dados analisados, a Loja 4 é a que apresenta o menor desempenho geral, tornando-se a candidata ideal para venda. Sua receita reduzida, alcance geográfico limitado e margem de lucro potencialmente menor justificam essa decisão.\n",
        "Caso haja interesse em otimizar o desempenho da Loja 1 antes da venda, ajustes no atendimento, mix de produtos e revisão dos custos de frete podem ser considerados.\n",
        "\n",
        " A melhor estratégia é vender a Loja 4 e concentrar esforços nas lojas mais rentáveis e bem avaliadas.\n"
      ],
      "metadata": {
        "id": "dygDKxbzUnx7"
      }
    }
  ]
}